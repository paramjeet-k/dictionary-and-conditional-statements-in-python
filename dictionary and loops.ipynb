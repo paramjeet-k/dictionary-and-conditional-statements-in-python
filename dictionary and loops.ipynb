{
 "cells": [
  {
   "cell_type": "code",
   "execution_count": 1,
   "id": "e3e23cfc-1479-4d77-8351-1ca73195e133",
   "metadata": {},
   "outputs": [],
   "source": [
    "d6 = {'number':[12,23,45,56],\"assignments\":(1,2,3,4,5,6),\"Launch date\":{28,2,4},\"class_timing\":{\"eb_dev\":8,\"Data science masters\": 8, \"Java with system design\":9}}"
   ]
  },
  {
   "cell_type": "code",
   "execution_count": 2,
   "id": "b615d768-9ba0-4d5a-955a-3c777d1995fa",
   "metadata": {},
   "outputs": [
    {
     "data": {
      "text/plain": [
       "{'number': [12, 23, 45, 56],\n",
       " 'assignments': (1, 2, 3, 4, 5, 6),\n",
       " 'Launch date': {2, 4, 28},\n",
       " 'class_timing': {'eb_dev': 8,\n",
       "  'Data science masters': 8,\n",
       "  'Java with system design': 9}}"
      ]
     },
     "execution_count": 2,
     "metadata": {},
     "output_type": "execute_result"
    }
   ],
   "source": [
    "d6"
   ]
  },
  {
   "cell_type": "code",
   "execution_count": 4,
   "id": "09e96bcf-1a83-48a1-9042-a71bdfbd6b88",
   "metadata": {},
   "outputs": [
    {
     "data": {
      "text/plain": [
       "(1, 2, 3, 4, 5, 6)"
      ]
     },
     "execution_count": 4,
     "metadata": {},
     "output_type": "execute_result"
    }
   ],
   "source": [
    "d6.pop(\"assignments\")"
   ]
  },
  {
   "cell_type": "code",
   "execution_count": 16,
   "id": "16156fcf-2568-450c-b22d-3e57506251f5",
   "metadata": {},
   "outputs": [
    {
     "name": "stdin",
     "output_type": "stream",
     "text": [
      "Enter the marks u obtained:  89\n"
     ]
    },
    {
     "name": "stdout",
     "output_type": "stream",
     "text": [
      "You will be a part of A0 batch\n"
     ]
    }
   ],
   "source": [
    "marks = int(input(\"Enter the marks u obtained: \"))\n",
    "\n",
    "if marks >= 80:\n",
    "    print(\"You will be a part of A0 batch\")\n",
    "elif marks >= 60 and marks<80:\n",
    "    print(\"You will be a part of A1 batch\")\n",
    "elif marks >= 40 and marks <60:\n",
    "    print(\"You will be a part of A2 batch\")\n",
    "else:\n",
    "    print(\"You will be a part of A3 batch\")"
   ]
  },
  {
   "cell_type": "code",
   "execution_count": 19,
   "id": "1f3c6fca-cd50-4e63-9a51-67c2de8765a2",
   "metadata": {},
   "outputs": [
    {
     "name": "stdin",
     "output_type": "stream",
     "text": [
      "Enter the price:  8999\n"
     ]
    },
    {
     "name": "stdout",
     "output_type": "stream",
     "text": [
      "I will not purchase\n"
     ]
    }
   ],
   "source": [
    "price = int(input(\"Enter the price: \"))\n",
    "if price > 1000:\n",
    "    print(\"I will not purchase\")\n",
    "else:\n",
    "    print(\"I will purchase\")\n"
   ]
  },
  {
   "cell_type": "code",
   "execution_count": 25,
   "id": "34676991-a76c-496a-a24a-2954db5e583f",
   "metadata": {},
   "outputs": [
    {
     "name": "stdin",
     "output_type": "stream",
     "text": [
      "Enter the price:  1500\n"
     ]
    },
    {
     "name": "stdout",
     "output_type": "stream",
     "text": [
      "I will not purchase\n",
      "Its ok\n"
     ]
    }
   ],
   "source": [
    "price = int(input(\"Enter the price: \"))\n",
    "if price > 1000:\n",
    "    print(\"I will not purchase\")\n",
    "    if price>5000:\n",
    "        print(\"This is too much\")\n",
    "    elif price<2000:\n",
    "        print(\"Its ok\")    "
   ]
  },
  {
   "cell_type": "code",
   "execution_count": 26,
   "id": "6eda16b4-d378-4683-a565-ac77e7bc04ad",
   "metadata": {},
   "outputs": [],
   "source": [
    "l = [1,2,3,4,5,6,7,8]"
   ]
  },
  {
   "cell_type": "code",
   "execution_count": 28,
   "id": "c29b0485-bc28-4cd2-b810-795f87610cdd",
   "metadata": {},
   "outputs": [
    {
     "data": {
      "text/plain": [
       "2"
      ]
     },
     "execution_count": 28,
     "metadata": {},
     "output_type": "execute_result"
    }
   ],
   "source": [
    "l[0] +1"
   ]
  },
  {
   "cell_type": "code",
   "execution_count": 29,
   "id": "b68b422a-9b81-4135-b319-41d5c7d4e747",
   "metadata": {},
   "outputs": [],
   "source": [
    "l1 =[]"
   ]
  },
  {
   "cell_type": "code",
   "execution_count": 30,
   "id": "8f24afa0-7284-4088-b85e-bcd05ce0b323",
   "metadata": {},
   "outputs": [],
   "source": [
    "l1.append(l[0] +1)"
   ]
  },
  {
   "cell_type": "code",
   "execution_count": 31,
   "id": "7e257eb5-15e8-45e3-a648-d239c9307190",
   "metadata": {},
   "outputs": [
    {
     "data": {
      "text/plain": [
       "[2]"
      ]
     },
     "execution_count": 31,
     "metadata": {},
     "output_type": "execute_result"
    }
   ],
   "source": [
    "l1"
   ]
  },
  {
   "cell_type": "code",
   "execution_count": 32,
   "id": "ca0f7b71-04b2-4769-b863-71d8fabf18a5",
   "metadata": {},
   "outputs": [],
   "source": [
    "l = [1,2,3,4,5,6,7,8]"
   ]
  },
  {
   "cell_type": "code",
   "execution_count": 39,
   "id": "84fa94b9-77f4-4531-a6c4-075b0a6285ee",
   "metadata": {},
   "outputs": [
    {
     "name": "stdout",
     "output_type": "stream",
     "text": [
      "2\n",
      "3\n",
      "4\n",
      "5\n",
      "6\n",
      "7\n",
      "8\n",
      "9\n"
     ]
    },
    {
     "data": {
      "text/plain": [
       "[2, 3, 4, 5, 6, 7, 8, 9]"
      ]
     },
     "execution_count": 39,
     "metadata": {},
     "output_type": "execute_result"
    }
   ],
   "source": [
    "l1 = []\n",
    "for i in l:\n",
    "    print(i+1)\n",
    "    l1.append(i+1)\n",
    "l1    "
   ]
  },
  {
   "cell_type": "code",
   "execution_count": 41,
   "id": "d61a9553-9161-4131-82ed-1e76212a11af",
   "metadata": {},
   "outputs": [
    {
     "data": {
      "text/plain": [
       "[2, 3, 4, 5, 6, 7, 8, 9]"
      ]
     },
     "execution_count": 41,
     "metadata": {},
     "output_type": "execute_result"
    }
   ],
   "source": [
    "l1"
   ]
  },
  {
   "cell_type": "code",
   "execution_count": 43,
   "id": "b932a09e-3136-401c-a657-a74ccac25842",
   "metadata": {},
   "outputs": [],
   "source": [
    "l =[\"Paramjeet\",\"kumar\",\"pwskillls\",\"courses\"]"
   ]
  },
  {
   "cell_type": "code",
   "execution_count": 45,
   "id": "1fb39139-491a-4355-9859-5c6b762ceccc",
   "metadata": {},
   "outputs": [
    {
     "name": "stdout",
     "output_type": "stream",
     "text": [
      "Paramjeet\n",
      "kumar\n",
      "pwskillls\n",
      "courses\n"
     ]
    }
   ],
   "source": [
    "l1= []\n",
    "for i in l:\n",
    "    print(i)\n",
    "    l1.append(i.upper())"
   ]
  },
  {
   "cell_type": "code",
   "execution_count": 46,
   "id": "90ed344c-878d-454d-87b6-6428718f2cdc",
   "metadata": {},
   "outputs": [
    {
     "data": {
      "text/plain": [
       "['PARAMJEET', 'KUMAR', 'PWSKILLLS', 'COURSES']"
      ]
     },
     "execution_count": 46,
     "metadata": {},
     "output_type": "execute_result"
    }
   ],
   "source": [
    "l1"
   ]
  },
  {
   "cell_type": "code",
   "execution_count": 48,
   "id": "02a041b6-0c0c-40ec-bdba-67cb42dc3cc6",
   "metadata": {},
   "outputs": [],
   "source": [
    "l=[1,2,3,4,5,6,\"sudh\",\"kumar\",234,56.78,\"abc\"]"
   ]
  },
  {
   "cell_type": "code",
   "execution_count": 49,
   "id": "d7307897-3f27-4872-a33c-1539b109f70f",
   "metadata": {},
   "outputs": [
    {
     "name": "stdout",
     "output_type": "stream",
     "text": [
      "1\n",
      "2\n",
      "3\n",
      "4\n",
      "5\n",
      "6\n",
      "sudh\n",
      "kumar\n",
      "234\n",
      "56.78\n",
      "abc\n"
     ]
    }
   ],
   "source": [
    "for i in l:\n",
    "    print(i)"
   ]
  },
  {
   "cell_type": "code",
   "execution_count": 50,
   "id": "afdb15e0-d8e0-4138-b835-5831d63e1f89",
   "metadata": {},
   "outputs": [],
   "source": [
    "l1_num = []\n",
    "l2_str = []\n",
    "for i in l:\n",
    "    if type(i)==int or type(i)==float:\n",
    "        l1_num.append(i)\n",
    "    else:\n",
    "        l2_str.append(i)"
   ]
  },
  {
   "cell_type": "code",
   "execution_count": 53,
   "id": "2c012111-e15d-41b0-a598-91d003b508a0",
   "metadata": {},
   "outputs": [
    {
     "data": {
      "text/plain": [
       "[]"
      ]
     },
     "execution_count": 53,
     "metadata": {},
     "output_type": "execute_result"
    }
   ],
   "source": [
    "l1_num"
   ]
  },
  {
   "cell_type": "code",
   "execution_count": 54,
   "id": "805df813-baba-49d0-bcd0-4baadad8f56f",
   "metadata": {},
   "outputs": [
    {
     "data": {
      "text/plain": [
       "['sudh', 'kumar', 'abc']"
      ]
     },
     "execution_count": 54,
     "metadata": {},
     "output_type": "execute_result"
    }
   ],
   "source": [
    "l2_str"
   ]
  },
  {
   "cell_type": "code",
   "execution_count": 55,
   "id": "acf0fb74-95a8-4e90-b18e-4dedbf054ac8",
   "metadata": {},
   "outputs": [
    {
     "data": {
      "text/plain": [
       "['sudh', 'kumar', 'abc']"
      ]
     },
     "execution_count": 55,
     "metadata": {},
     "output_type": "execute_result"
    }
   ],
   "source": [
    "l2_str"
   ]
  }
 ],
 "metadata": {
  "kernelspec": {
   "display_name": "Python 3 (ipykernel)",
   "language": "python",
   "name": "python3"
  },
  "language_info": {
   "codemirror_mode": {
    "name": "ipython",
    "version": 3
   },
   "file_extension": ".py",
   "mimetype": "text/x-python",
   "name": "python",
   "nbconvert_exporter": "python",
   "pygments_lexer": "ipython3",
   "version": "3.10.8"
  }
 },
 "nbformat": 4,
 "nbformat_minor": 5
}
